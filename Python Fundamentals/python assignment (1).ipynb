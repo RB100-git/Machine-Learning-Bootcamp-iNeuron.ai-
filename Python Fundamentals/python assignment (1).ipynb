{
 "cells": [
  {
   "cell_type": "markdown",
   "id": "69fcabf5-5f01-4437-88df-376a9cb5cc3c",
   "metadata": {},
   "source": [
    "# Python Programming"
   ]
  },
  {
   "cell_type": "markdown",
   "id": "8a1192b4-d080-4cb8-8107-b43f85790158",
   "metadata": {},
   "source": [
    "## ☛ *Question 1:*\n",
    "### Write a program to accept two numbers from the user and display their sum."
   ]
  },
  {
   "cell_type": "code",
   "execution_count": 1,
   "id": "7d861104-d0ac-4c94-be93-44c1671a89f8",
   "metadata": {},
   "outputs": [
    {
     "name": "stdin",
     "output_type": "stream",
     "text": [
      "Enter First number:  36\n",
      "Enter Second number:  64\n"
     ]
    },
    {
     "name": "stdout",
     "output_type": "stream",
     "text": [
      "sum is 100\n"
     ]
    }
   ],
   "source": [
    "a = input(\"Enter First number: \")\n",
    "b = input(\"Enter Second number: \")\n",
    "c = int(a) + int(b)\n",
    "print(\"sum is {0}\".format(c))"
   ]
  },
  {
   "cell_type": "markdown",
   "id": "a8c2da56-1767-4c9f-94e6-dd4144d563a5",
   "metadata": {},
   "source": [
    "## ☛ *Question 2:*\n",
    "### Write a program to accept radius of a Circle from the user and calculate area and circumference."
   ]
  },
  {
   "cell_type": "code",
   "execution_count": 2,
   "id": "ea4bcffc-9639-4415-9abe-0d01c505d432",
   "metadata": {},
   "outputs": [
    {
     "name": "stdin",
     "output_type": "stream",
     "text": [
      "Enter the radius of the circle:  14\n"
     ]
    },
    {
     "name": "stdout",
     "output_type": "stream",
     "text": [
      "The circumference of the circle is 87.92 and the area is 615.44\n"
     ]
    }
   ],
   "source": [
    "radius = float(input(\"Enter the radius of the circle: \"))\n",
    "pi = 3.14\n",
    "circumference = 2*pi*radius\n",
    "area = pi*radius**2\n",
    "print(\"The circumference of the circle is {:.2f} and the area is {:.2f}\".format(circumference, area))"
   ]
  },
  {
   "cell_type": "markdown",
   "id": "88a4b3c5-924d-4a7d-b979-e3320cac947e",
   "metadata": {},
   "source": [
    "## ☛ *Question 3:*\n",
    "### Write a program to accept roll number , grade and percentage as input from the user and display it back."
   ]
  },
  {
   "cell_type": "code",
   "execution_count": 3,
   "id": "c35c7ec9-4fa5-421f-987d-e85e9bbd987e",
   "metadata": {},
   "outputs": [
    {
     "name": "stdin",
     "output_type": "stream",
     "text": [
      "Enter Roll no.:  001\n",
      "Enter grade:  A\n",
      "Enter percentage of marks:  90\n"
     ]
    },
    {
     "name": "stdout",
     "output_type": "stream",
     "text": [
      "roll no. :  1 \n",
      "grade:  A \n",
      "percentage of marks:  90\n"
     ]
    }
   ],
   "source": [
    "roll = int(input(\"Enter Roll no.: \"))\n",
    "grade = input(\"Enter grade: \")\n",
    "percentage = int(input(\"Enter percentage of marks: \"))\n",
    "print(\"roll no. : \", roll, \"\\ngrade: \", grade, \"\\npercentage of marks: \", percentage)"
   ]
  },
  {
   "cell_type": "markdown",
   "id": "f93da91a-67e9-4ab8-83a9-57faca49c476",
   "metadata": {},
   "source": [
    "## ☛ *Question 4:*\n",
    "### Write a program that asks the user to enter his/her name and age. Print out a message , displaying the user’s name along with the year in which they will turn 100 years old."
   ]
  },
  {
   "cell_type": "code",
   "execution_count": 4,
   "id": "12feccaa-81d7-4714-a8b9-16d2f696fdb4",
   "metadata": {},
   "outputs": [
    {
     "name": "stdin",
     "output_type": "stream",
     "text": [
      "enter name:  Abel Tesfaye\n",
      "enter age:  22\n"
     ]
    },
    {
     "name": "stdout",
     "output_type": "stream",
     "text": [
      "Abel Tesfaye will be 100 years old in 2100\n"
     ]
    }
   ],
   "source": [
    "name = str(input(\"enter name: \"))\n",
    "age = int(input(\"enter age: \"))\n",
    "current_year = 2022\n",
    "Result = (current_year - age) + 100\n",
    "print(name, \"will be 100 years old in\", Result)"
   ]
  },
  {
   "cell_type": "markdown",
   "id": "cfc72f72-6fa4-415d-865c-e94e70b1a943",
   "metadata": {},
   "source": [
    "## ☛ *Question 5:*\n",
    "### Write a program that asks the user to input 2 integers and adds them . Accept both the numbers in a single line only.\n"
   ]
  },
  {
   "cell_type": "code",
   "execution_count": 5,
   "id": "a0f45148-ec63-4e40-bdfc-3d92267e4946",
   "metadata": {},
   "outputs": [
    {
     "name": "stdin",
     "output_type": "stream",
     "text": [
      "Enter two values:  20 30\n"
     ]
    },
    {
     "name": "stdout",
     "output_type": "stream",
     "text": [
      "The sum is 50\n"
     ]
    }
   ],
   "source": [
    "a, b = input(\"Enter two values: \").split()\n",
    "c = int(a) + int(b)\n",
    "print(\"The sum is\", c)"
   ]
  },
  {
   "cell_type": "markdown",
   "id": "86be2c84-dc9b-442d-96ed-c834641cf928",
   "metadata": {},
   "source": [
    "## ☛ *Question 6:*\n",
    "### Write a Python program which accepts the user's first and last name and print them in reverse order with a space between them."
   ]
  },
  {
   "cell_type": "code",
   "execution_count": 7,
   "id": "e5a7f662-ddb5-4197-b6f9-6d0eb3dbc12a",
   "metadata": {},
   "outputs": [
    {
     "name": "stdin",
     "output_type": "stream",
     "text": [
      "enter first name:  Abel\n",
      "enter last name:  Tesfaye\n"
     ]
    },
    {
     "name": "stdout",
     "output_type": "stream",
     "text": [
      "Name in reverse order:  eyafseT lebA\n"
     ]
    }
   ],
   "source": [
    "first_name = input(\"enter first name: \")\n",
    "last_name = input(\"enter last name: \")\n",
    "full_name = first_name + \" \"+ last_name\n",
    "print(\"Name in reverse order: \",full_name[::-1])"
   ]
  },
  {
   "cell_type": "markdown",
   "id": "9e0128a0-7c64-47d3-b9a0-d61d5c444687",
   "metadata": {},
   "source": [
    "## ☛ *Question 7:*\n",
    "### Write a program to accept an integer from the user and check whether it is an even or odd."
   ]
  },
  {
   "cell_type": "code",
   "execution_count": 8,
   "id": "5af68668-6cb3-48e4-a6ad-6b9cf7b1382e",
   "metadata": {},
   "outputs": [
    {
     "name": "stdin",
     "output_type": "stream",
     "text": [
      "give an number:  8\n"
     ]
    },
    {
     "name": "stdout",
     "output_type": "stream",
     "text": [
      "The number is even.\n"
     ]
    }
   ],
   "source": [
    "a = int(input(\"give an number: \"))\n",
    "if a % 2 == 0:\n",
    "    print(\"The number is even.\")\n",
    "else:\n",
    "    print(\"The number is odd.\")"
   ]
  },
  {
   "cell_type": "markdown",
   "id": "161ef305-fac5-45eb-8044-e8546749e047",
   "metadata": {},
   "source": [
    "## ☛ *Question 8:*\n",
    "### Write a program to accept a character from the user and check whether it is a capital letter or small letter. Assume user will input only alphabets."
   ]
  },
  {
   "cell_type": "code",
   "execution_count": 9,
   "id": "1ad106d0-db7b-4ebe-b4c5-64fafddad8ba",
   "metadata": {},
   "outputs": [
    {
     "name": "stdin",
     "output_type": "stream",
     "text": [
      "enter an alphabet: D\n"
     ]
    },
    {
     "name": "stdout",
     "output_type": "stream",
     "text": [
      "D is an UpperCase character\n"
     ]
    }
   ],
   "source": [
    "Letter = input(\"enter an alphabet:\")\n",
    "if (Letter >= 'A' and Letter <= 'Z'):\n",
    "    print(Letter,\"is an UpperCase character\")\n",
    "elif (Letter >= 'a' and Letter <= 'z'):\n",
    "    print(Letter,\"is an LowerCase character\")\n",
    "else:\n",
    "    print(Letter,\"is not an aplhabetic character\")"
   ]
  },
  {
   "cell_type": "markdown",
   "id": "e10757ac-55d1-477f-9566-ab51d108477d",
   "metadata": {},
   "source": [
    "## ☛ *Question 9:*\n",
    "### Write a program to accept a character from the user and check whether it is a capital letter or small letter or a digit or some special symbol."
   ]
  },
  {
   "cell_type": "code",
   "execution_count": 10,
   "id": "33d21300-9597-4a8a-93e2-c9d5d7b96b6c",
   "metadata": {},
   "outputs": [
    {
     "name": "stdin",
     "output_type": "stream",
     "text": [
      "enter an alphabet: @\n"
     ]
    },
    {
     "name": "stdout",
     "output_type": "stream",
     "text": [
      "@ is a special character\n"
     ]
    }
   ],
   "source": [
    "Letter = input(\"enter an alphabet:\")\n",
    "if (Letter >= 'A' and Letter <= 'Z'):\n",
    "    print(Letter,\"is an UpperCase character\")\n",
    "elif (Letter >= 'a' and Letter <= 'z'):\n",
    "    print(Letter,\"is an LowerCase character\")\n",
    "elif (Letter >= \"0\" and Letter <= \"9\"):\n",
    "    print(Letter,\"is a digit\")\n",
    "else:\n",
    "    print(Letter,\"is a special character\")"
   ]
  },
  {
   "cell_type": "markdown",
   "id": "fae97228-67d3-4e13-8aba-8b533a682a88",
   "metadata": {},
   "source": [
    "## ☛ *Question 10:*\n",
    "### Write a program to accept 3 integers from the user and find out the greatest number amongst them."
   ]
  },
  {
   "cell_type": "code",
   "execution_count": 11,
   "id": "ad964364-44a3-4530-8984-8dc7942d1f3f",
   "metadata": {},
   "outputs": [
    {
     "name": "stdin",
     "output_type": "stream",
     "text": [
      "Enter 1st number :  90\n",
      "Enter 2nd number :  80\n",
      "Enter 3rd number :  110\n"
     ]
    },
    {
     "name": "stdout",
     "output_type": "stream",
     "text": [
      "110 is largest number\n"
     ]
    }
   ],
   "source": [
    "a = int(input(\"Enter 1st number : \"))\n",
    "b = int(input(\"Enter 2nd number : \"))\n",
    "c = int(input(\"Enter 3rd number : \"))\n",
    "\n",
    "if a >= b :\n",
    "    if a >= c :\n",
    "        print(a, \"is largest number\")\n",
    "    else :\n",
    "        print(c, \"is largest number\")\n",
    "else :\n",
    "    if b >= c :\n",
    "        print(b, \" is largest number\")\n",
    "    else :\n",
    "        print(c, \"is the largest number\")"
   ]
  },
  {
   "cell_type": "markdown",
   "id": "1316e81c-e05c-451e-9f61-35a92f345557",
   "metadata": {},
   "source": [
    "## ☛ *Question 11:*\n",
    "### Write a program to accept a year from the user and check whether it is a leap year or not."
   ]
  },
  {
   "cell_type": "code",
   "execution_count": 12,
   "id": "18b76ffd-dab3-49cc-8f84-08ab189dc75d",
   "metadata": {},
   "outputs": [
    {
     "name": "stdin",
     "output_type": "stream",
     "text": [
      "Enter a year:  1900\n"
     ]
    },
    {
     "name": "stdout",
     "output_type": "stream",
     "text": [
      "1900 is not a leap year\n"
     ]
    }
   ],
   "source": [
    "year = int(input(\"Enter a year: \"))\n",
    "if (year % 400 == 0) and (year % 100 == 0):\n",
    "    print(\"{0} is a leap year\".format(year))\n",
    "elif (year % 4 ==0) and (year % 100 != 0):\n",
    "    print(\"{0} is a leap year\".format(year))\n",
    "else:\n",
    "    print(\"{0} is not a leap year\".format(year))"
   ]
  },
  {
   "cell_type": "markdown",
   "id": "f12f27d9-0504-4a7f-a5cd-f0d70d485fa5",
   "metadata": {},
   "source": [
    "## ☛ *Question 12:*\n",
    "### You have to develop a number guessing game. Following are the steps needed:\n",
    "### •At first , the program will generate a random integer secretly.\n",
    "### •Now it will ask the user to guess that number.\n",
    "### •If the user guessed it correctly then the program prints “Congratulations! You guessed it right”.\n",
    "### •But if the number guessed by the user is larger than the secret number then program should print “Number too large” and , if the number guessed by the user is smaller than the secret number then the program should print “Number too small”\n",
    "### •This should continue until the user guesses the number correctly or quits .\n",
    "### •If the user wants to quit in between he will have to type 0 or negative number."
   ]
  },
  {
   "cell_type": "code",
   "execution_count": 13,
   "id": "499bf07c-2e01-4567-a62c-f0a25b5ca74e",
   "metadata": {},
   "outputs": [
    {
     "name": "stdin",
     "output_type": "stream",
     "text": [
      "Enter Lower bound:-  1\n",
      "Enter Upper bound:-  5\n"
     ]
    },
    {
     "name": "stdout",
     "output_type": "stream",
     "text": [
      "Let's begin the game...\n"
     ]
    },
    {
     "name": "stdin",
     "output_type": "stream",
     "text": [
      "Guess a number:  2\n"
     ]
    },
    {
     "name": "stdout",
     "output_type": "stream",
     "text": [
      "Too low\n"
     ]
    },
    {
     "name": "stdin",
     "output_type": "stream",
     "text": [
      "Guess the number again:  3\n"
     ]
    },
    {
     "name": "stdout",
     "output_type": "stream",
     "text": [
      "Congrats! you are right!!!\n"
     ]
    }
   ],
   "source": [
    "import random\n",
    "lower = int(input(\"Enter Lower bound:- \"))\n",
    "upper = int(input(\"Enter Upper bound:- \"))\n",
    "n = random.randrange(lower,upper)\n",
    "print(\"Let's begin the game...\")\n",
    "guess = int(input(\"Guess a number: \"))\n",
    "while n!= guess:\n",
    "    if guess <= 0:\n",
    "        print(\"Better Luck, Next Time !!!\")\n",
    "        break\n",
    "    elif guess < n:\n",
    "        print(\"Too low\")\n",
    "        guess = int(input(\"Guess the number again: \"))\n",
    "    elif guess > n:\n",
    "        print(\"Too high!\")\n",
    "        guess = int(input(\"Guess the number again: \"))\n",
    "    else :\n",
    "        break\n",
    "    print(\"Congrats! you are right!!!\")"
   ]
  },
  {
   "cell_type": "markdown",
   "id": "b76128de-e984-4fb4-9626-3f1e4278834a",
   "metadata": {},
   "source": [
    "## ☛ *Question 14:*\n",
    "### Write a program to continuously accept integers from the user until the user types 0 and as soon as 0 is entered display sum of all the numbers entered before 0.\n",
    "### *Note:Modify the previous code so that if the user inputs a negative integer , your program should ignore it.*"
   ]
  },
  {
   "cell_type": "code",
   "execution_count": 14,
   "id": "e204fed3-89b8-4b93-9ddb-48047a660327",
   "metadata": {},
   "outputs": [
    {
     "name": "stdin",
     "output_type": "stream",
     "text": [
      "Enter a number:  2\n",
      "Enter a number:  5\n",
      "Enter a number:  -9\n",
      "Enter a number:  0\n"
     ]
    },
    {
     "name": "stdout",
     "output_type": "stream",
     "text": [
      "User pressed 0\n",
      "Sum of given numbers:  -2\n"
     ]
    }
   ],
   "source": [
    "my_list = []\n",
    "\n",
    "user_input = ''\n",
    "\n",
    "while True:\n",
    "    user_input = input('Enter a number: ')\n",
    "    if user_input == '0':\n",
    "        print('User pressed 0')\n",
    "        break\n",
    "\n",
    "    try:\n",
    "        my_list.append(int(user_input))\n",
    "    except ValueError:\n",
    "        print('Invalid number.')\n",
    "        continue\n",
    "print(\"Sum of given numbers: \", sum(my_list))"
   ]
  },
  {
   "cell_type": "markdown",
   "id": "50b57ffe-5248-41f6-a748-cfee7b98cf9d",
   "metadata": {},
   "source": [
    "## ☛ *Question 15:*\n",
    "### Write a program using a for loop to accept a string from the user and display it vertically but don’t display the vowels in it."
   ]
  },
  {
   "cell_type": "code",
   "execution_count": 15,
   "id": "08a0c189-bd68-4c16-a713-d0a4b6b53298",
   "metadata": {},
   "outputs": [
    {
     "name": "stdin",
     "output_type": "stream",
     "text": [
      "Enter any word:  Algorithm\n"
     ]
    },
    {
     "name": "stdout",
     "output_type": "stream",
     "text": [
      "l\n",
      "g\n",
      "r\n",
      "t\n",
      "h\n",
      "m\n",
      "\n"
     ]
    }
   ],
   "source": [
    "string = input(\"Enter any word: \")\n",
    "vowels = ['a', 'e', 'i', 'o', 'u', 'A', 'E', 'I', 'O', 'U']\n",
    "result = \"\"\n",
    "for i in range(len(string)):\n",
    "    if string[i] not in vowels:\n",
    "        result = result + string[i] + \"\\n\"\n",
    "print(result)"
   ]
  },
  {
   "cell_type": "markdown",
   "id": "36674fda-5931-4ea0-8e56-6a94ea852006",
   "metadata": {},
   "source": [
    "## ☛ *Question 16:*\n",
    "### Write a program to accept an integer from the user and display the sum of all the numbers from 1 to that number."
   ]
  },
  {
   "cell_type": "code",
   "execution_count": 16,
   "id": "dda5a4dd-99af-45f7-93c8-86dbc30be9af",
   "metadata": {},
   "outputs": [
    {
     "name": "stdin",
     "output_type": "stream",
     "text": [
      "Enter an integer:  10\n"
     ]
    },
    {
     "name": "stdout",
     "output_type": "stream",
     "text": [
      "The sum is 55\n"
     ]
    }
   ],
   "source": [
    "number = int(input(\"Enter an integer: \"))\n",
    "if number < 0:\n",
    "    print(\"Enter a positive number\")\n",
    "else:\n",
    "    sum = 0\n",
    "    while(number > 0):\n",
    "        sum += number\n",
    "        number -= 1\n",
    "print(\"The sum is\", sum)"
   ]
  },
  {
   "cell_type": "markdown",
   "id": "9c17f8b2-6305-4a51-9d6e-960e723bed55",
   "metadata": {},
   "source": [
    "## ☛ *Question 17:*\n",
    "### Write a program to accept an integer from the user and calculate its factorial."
   ]
  },
  {
   "cell_type": "code",
   "execution_count": 17,
   "id": "b52667ca-2885-431a-a2d6-9f9bbcf13e50",
   "metadata": {},
   "outputs": [
    {
     "name": "stdin",
     "output_type": "stream",
     "text": [
      "give a number:  5\n"
     ]
    },
    {
     "name": "stdout",
     "output_type": "stream",
     "text": [
      "factorial of 5 is 120\n"
     ]
    }
   ],
   "source": [
    "a = int(input(\"give a number: \"))\n",
    "factorial = 1\n",
    "if a > 0:\n",
    "    for i in range(1, a+1):\n",
    "        factorial = factorial*i\n",
    "    print(\"factorial of\",a,\"is\",factorial)\n",
    "elif a == 0:\n",
    "    print(\"0 factorial is 1\")\n",
    "else:\n",
    "    print(\"does not exist\")"
   ]
  },
  {
   "cell_type": "markdown",
   "id": "15d3e298-b508-4e24-9540-b83466fdeef1",
   "metadata": {},
   "source": [
    "## ☛ *Question 18:*\n",
    "### Write a program to print the following pattern.\n",
    "\n",
    "<img src=\"markdown 1.PNG\">"
   ]
  },
  {
   "cell_type": "code",
   "execution_count": 18,
   "id": "b2d2a4e8-7d0c-4c3a-8ff7-0314c3a9bad8",
   "metadata": {},
   "outputs": [
    {
     "name": "stdout",
     "output_type": "stream",
     "text": [
      "* * * \n",
      "* * * \n",
      "* * * \n",
      "* * * \n"
     ]
    }
   ],
   "source": [
    "rows = 4\n",
    "for i in range(1, rows + 1):\n",
    "    for j in range(1, rows):\n",
    "        if j <= i:\n",
    "            print(\"*\", end=' ')\n",
    "        else:\n",
    "            print(\"*\", end=' ')\n",
    "    print(\"\\r\")"
   ]
  },
  {
   "cell_type": "markdown",
   "id": "46dd2144-8c43-4b10-9dc6-034b78ba9901",
   "metadata": {},
   "source": [
    "## ☛ *Question 19:*\n",
    "### Write a program to print the following pattern\n",
    "<img src=\"markdown 2.PNG\">"
   ]
  },
  {
   "cell_type": "code",
   "execution_count": 19,
   "id": "f6893b32-3cd0-4466-a06b-fdcf5d0e5dd6",
   "metadata": {},
   "outputs": [
    {
     "name": "stdout",
     "output_type": "stream",
     "text": [
      "*\n",
      "**\n",
      "***\n",
      "****\n"
     ]
    }
   ],
   "source": [
    "for i in range(0, 4):\n",
    "        for j in range(0, i+1):\n",
    "            print(\"*\",end=\"\")\n",
    "        print(\"\\r\")"
   ]
  },
  {
   "cell_type": "markdown",
   "id": "e27db4f8-336e-4b6d-91d5-ae6fc4010634",
   "metadata": {},
   "source": [
    "## ☛ *Question 20:*\n",
    "### Write a program to print the following pattern\n",
    "<img src=\"markdown 3.PNG\">"
   ]
  },
  {
   "cell_type": "code",
   "execution_count": 20,
   "id": "1ca10756-b550-47c3-8616-57c8074b97f3",
   "metadata": {},
   "outputs": [
    {
     "name": "stdout",
     "output_type": "stream",
     "text": [
      "* * * * \n",
      "* * * \n",
      "* * \n",
      "* \n"
     ]
    }
   ],
   "source": [
    "rows = 4\n",
    "b = 0\n",
    "for i in range(rows, 0, -1):\n",
    "    b += 1\n",
    "    for j in range(1, i + 1):\n",
    "        print(\"*\", end=' ')\n",
    "    print('\\r')"
   ]
  },
  {
   "cell_type": "markdown",
   "id": "0f1e3ee2-8bf5-47bb-bcb6-c48bf1a73865",
   "metadata": {},
   "source": [
    "## ☛ *Question 21:*\n",
    "### Write a program to accept an integer from the user and display all the numbers from 1 to that number. Repeat the process until the user enters 0."
   ]
  },
  {
   "cell_type": "code",
   "execution_count": null,
   "id": "c1ff04ca-0e53-4d3c-bcb7-70c8d06d849d",
   "metadata": {},
   "outputs": [],
   "source": [
    "while True:\n",
    "    number = eval(input(\"Enter the number\\n\"))\n",
    "    if number == 0:\n",
    "        print (\"USER PRESSED 0\")\n",
    "        break\n",
    "    else:\n",
    "        i=0\n",
    "        for i in range(1, number+1):\n",
    "            print(i)"
   ]
  },
  {
   "cell_type": "code",
   "execution_count": null,
   "id": "83bb647d-8d5e-45c6-a013-dc7348516492",
   "metadata": {},
   "outputs": [],
   "source": []
  }
 ],
 "metadata": {
  "kernelspec": {
   "display_name": "Python 3 (ipykernel)",
   "language": "python",
   "name": "python3"
  },
  "language_info": {
   "codemirror_mode": {
    "name": "ipython",
    "version": 3
   },
   "file_extension": ".py",
   "mimetype": "text/x-python",
   "name": "python",
   "nbconvert_exporter": "python",
   "pygments_lexer": "ipython3",
   "version": "3.10.6"
  }
 },
 "nbformat": 4,
 "nbformat_minor": 5
}
