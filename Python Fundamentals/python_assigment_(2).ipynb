{
 "cells": [
  {
   "cell_type": "markdown",
   "id": "ee585875-b817-4459-9eb9-6fcebb726f10",
   "metadata": {},
   "source": [
    "# Python Programming"
   ]
  },
  {
   "cell_type": "markdown",
   "id": "d2b05048-9437-474b-b616-313d6186c5ef",
   "metadata": {},
   "source": [
    "## ☛ *Question 1:*"
   ]
  },
  {
   "cell_type": "markdown",
   "id": "6711a713-3088-49d8-ad60-644513602052",
   "metadata": {},
   "source": [
    "### Write a program to accept 5 integers from the user, store them in a list. Display these interegers and their sum."
   ]
  },
  {
   "cell_type": "code",
   "execution_count": 30,
   "id": "89d15bdd-7005-4b41-a8d4-371394a728f7",
   "metadata": {},
   "outputs": [
    {
     "name": "stdin",
     "output_type": "stream",
     "text": [
      " 1\n",
      " 2\n",
      " 3\n",
      " 4\n",
      " 1\n"
     ]
    },
    {
     "name": "stdout",
     "output_type": "stream",
     "text": [
      "The list of 5 intregers are:  [1, 2, 3, 4, 1]\n",
      "Sum of them:  11\n"
     ]
    }
   ],
   "source": [
    "inputs = [int(input())for i in range(5)]\n",
    "print(\"The list of 5 intregers is: \", inputs)\n",
    "print(\"Sum of them: \", sum(inputs))"
   ]
  },
  {
   "cell_type": "markdown",
   "id": "72fede61-d599-49ba-9cbb-6f306f33367f",
   "metadata": {},
   "source": [
    "## ☛ *Question 2:*"
   ]
  },
  {
   "cell_type": "markdown",
   "id": "1367a94e-2234-4845-b51f-11ea4ffadacc",
   "metadata": {},
   "source": [
    "### Write a program to accept 5 unique integers from the user. If the integer being entered already present in your list, display the message \"Item Already Present\" and ask the user to re-enter the integer. "
   ]
  },
  {
   "cell_type": "code",
   "execution_count": 34,
   "id": "143ee527-2946-4441-9bed-5f2bc0589042",
   "metadata": {},
   "outputs": [
    {
     "name": "stdin",
     "output_type": "stream",
     "text": [
      "Enter an integer:  1\n",
      "Enter an integer:  2\n",
      "Enter an integer:  2\n"
     ]
    },
    {
     "name": "stdout",
     "output_type": "stream",
     "text": [
      "Item Already Present\n"
     ]
    },
    {
     "name": "stdin",
     "output_type": "stream",
     "text": [
      "Enter an integer:  3\n",
      "Enter an integer:  1\n"
     ]
    },
    {
     "name": "stdout",
     "output_type": "stream",
     "text": [
      "Item Already Present\n"
     ]
    },
    {
     "name": "stdin",
     "output_type": "stream",
     "text": [
      "Enter an integer:  8\n",
      "Enter an integer:  9\n"
     ]
    },
    {
     "name": "stdout",
     "output_type": "stream",
     "text": [
      "The unique integers entered are: [1, 2, 3, 8, 9]\n"
     ]
    }
   ],
   "source": [
    "list = []\n",
    "\n",
    "for i in range(5):\n",
    "    while True:\n",
    "        number = int(input(\"Enter an integer: \"))\n",
    "        if number not in list:\n",
    "            list.append(number)\n",
    "            break\n",
    "        else:\n",
    "            print(\"Item Already Present. Please re-enter\")\n",
    "\n",
    "print(\"The unique integers entered are:\", list)"
   ]
  },
  {
   "cell_type": "markdown",
   "id": "17fe48af-8736-4a90-9753-3bf3c67abce8",
   "metadata": {},
   "source": [
    "## ☛ *Question 3:*"
   ]
  },
  {
   "cell_type": "markdown",
   "id": "82c910c0-e911-4f30-8780-fc9a2606b547",
   "metadata": {},
   "source": [
    "### Write a program to accept 2 lists from the user of 5 numbers each. Assume each list will have unique numbers. Now Find out how many numbers in these lists are common and display those numbers that are common."
   ]
  },
  {
   "cell_type": "code",
   "execution_count": 40,
   "id": "961a46e1-b79b-42f7-98f5-b289502c9ebb",
   "metadata": {},
   "outputs": [
    {
     "name": "stdin",
     "output_type": "stream",
     "text": [
      "Enter 5 values for list 1:  1 2 3 4 5\n",
      "Enter 5 values for list 2:  2 3 8 9 7\n"
     ]
    },
    {
     "name": "stdout",
     "output_type": "stream",
     "text": [
      "There are 2 common numbers and the list of them is [2, 3]\n"
     ]
    }
   ],
   "source": [
    "x1 = list(map(int, input(\"Enter 5 values for list 1: \").split()[:5]))\n",
    "x2 = list(map(int, input(\"Enter 5 values for list 2: \").split()[:5]))\n",
    "result = [i for i in x1 if i in x2]\n",
    "print(\"There are\",len(result),\"common numbers and the list of them is\", result)"
   ]
  },
  {
   "cell_type": "code",
   "execution_count": null,
   "id": "5e0421c5-bb86-408a-ba76-ea56faea6f40",
   "metadata": {},
   "outputs": [],
   "source": []
  }
 ],
 "metadata": {
  "kernelspec": {
   "display_name": "Python 3 (ipykernel)",
   "language": "python",
   "name": "python3"
  },
  "language_info": {
   "codemirror_mode": {
    "name": "ipython",
    "version": 3
   },
   "file_extension": ".py",
   "mimetype": "text/x-python",
   "name": "python",
   "nbconvert_exporter": "python",
   "pygments_lexer": "ipython3",
   "version": "3.10.6"
  }
 },
 "nbformat": 4,
 "nbformat_minor": 5
}
