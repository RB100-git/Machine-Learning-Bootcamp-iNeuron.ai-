{
  "nbformat": 4,
  "nbformat_minor": 0,
  "metadata": {
    "colab": {
      "provenance": []
    },
    "kernelspec": {
      "name": "python3",
      "display_name": "Python 3"
    },
    "language_info": {
      "name": "python"
    }
  },
  "cells": [
    {
      "cell_type": "markdown",
      "source": [
        "# Python Programming"
      ],
      "metadata": {
        "id": "XY5F5YV7Gbj4"
      }
    },
    {
      "cell_type": "markdown",
      "source": [
        "## ☛ *Question 1:*\n",
        "\n",
        "\n",
        "### Write a program to accept 5 integers from the user, store them in a list. Display these interegers and their sum."
      ],
      "metadata": {
        "id": "1AajLMmfGtmj"
      }
    },
    {
      "cell_type": "code",
      "source": [
        "inputs = [int(input())for i in range(5)]\n",
        "print(\"The list of 5 intregers is: \", inputs)\n",
        "print(\"Sum of them: \", sum(inputs))"
      ],
      "metadata": {
        "colab": {
          "base_uri": "https://localhost:8080/"
        },
        "id": "Fr6Sa-a4Gl-U",
        "outputId": "5acec474-dc9b-421d-8030-7d7267ee73f4"
      },
      "execution_count": 2,
      "outputs": [
        {
          "output_type": "stream",
          "name": "stdout",
          "text": [
            "1\n",
            "2\n",
            "3\n",
            "7\n",
            "8\n",
            "The list of 5 intregers is:  [1, 2, 3, 7, 8]\n",
            "Sum of them:  21\n"
          ]
        }
      ]
    },
    {
      "cell_type": "markdown",
      "source": [
        "## ☛ *Question 2:*\n",
        "\n",
        "### Write a program to accept 5 unique integers from the user. If the integer being entered already present in your list, display the message \"Item Already Present\" and ask the user to re-enter the integer. "
      ],
      "metadata": {
        "id": "peDRa_YCG-GL"
      }
    },
    {
      "cell_type": "code",
      "source": [
        "list = []\n",
        "\n",
        "for i in range(5):\n",
        "    while True:\n",
        "        number = int(input(\"Enter an integer: \"))\n",
        "        if number not in list:\n",
        "            list.append(number)\n",
        "            break\n",
        "        else:\n",
        "            print(\"Item Already Present. Please re-enter\")\n",
        "\n",
        "print(\"The unique integers entered are:\", list)"
      ],
      "metadata": {
        "colab": {
          "base_uri": "https://localhost:8080/"
        },
        "id": "OBV2lsDgHGfw",
        "outputId": "0fd7a654-5c9d-42b3-f2d3-7a06d6c8566b"
      },
      "execution_count": 3,
      "outputs": [
        {
          "output_type": "stream",
          "name": "stdout",
          "text": [
            "Enter an integer: 1\n",
            "Enter an integer: 2\n",
            "Enter an integer: 2\n",
            "Item Already Present. Please re-enter\n",
            "Enter an integer: 3\n",
            "Enter an integer: 3\n",
            "Item Already Present. Please re-enter\n",
            "Enter an integer: 8\n",
            "Enter an integer: 9\n",
            "The unique integers entered are: [1, 2, 3, 8, 9]\n"
          ]
        }
      ]
    },
    {
      "cell_type": "markdown",
      "source": [
        "## ☛ *Question 3:*\n",
        "\n",
        "### Write a program to accept 2 lists from the user of 5 numbers each. Assume each list will have unique numbers. Now Find out how many numbers in these lists are common and display those numbers that are common."
      ],
      "metadata": {
        "id": "Uc_8lomBHKyv"
      }
    },
    {
      "cell_type": "code",
      "source": [
        "x1 = [int(x) for x in input(\"Enter 5 values for list 1: \").split()[:5]]\n",
        "x2 = [int(x) for x in input(\"Enter 5 values for list 2: \").split()[:5]]\n",
        "result = [i for i in x1 if i in x2]\n",
        "print(\"There are\",len(result),\"common numbers and the list of them is\",result)"
      ],
      "metadata": {
        "colab": {
          "base_uri": "https://localhost:8080/"
        },
        "id": "Phqhj6K0ax1u",
        "outputId": "55ac8b57-1c77-4de8-eea0-2db96d625ab5"
      },
      "execution_count": 35,
      "outputs": [
        {
          "output_type": "stream",
          "name": "stdout",
          "text": [
            "Enter 5 values for list 1: 1 2 3 4 5 6\n",
            "Enter 5 values for list 2: 1 2 3 4 5 6\n",
            "There are 5 common numbers and the list of them is [1, 2, 3, 4, 5]\n"
          ]
        }
      ]
    },
    {
      "cell_type": "code",
      "source": [],
      "metadata": {
        "id": "HarXxADLeqzM"
      },
      "execution_count": null,
      "outputs": []
    }
  ]
}